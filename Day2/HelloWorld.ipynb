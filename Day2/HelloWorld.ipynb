{
 "cells": [
  {
   "cell_type": "code",
   "execution_count": 1,
   "metadata": {},
   "outputs": [],
   "source": [
    "import tensorflow as tf"
   ]
  },
  {
   "cell_type": "code",
   "execution_count": 3,
   "metadata": {},
   "outputs": [],
   "source": [
    "tf.compat.v1.disable_eager_execution()"
   ]
  },
  {
   "cell_type": "code",
   "execution_count": 9,
   "metadata": {},
   "outputs": [
    {
     "name": "stdout",
     "output_type": "stream",
     "text": [
      "0 . Cost = 74.666664 \tWeight = -3.0\n",
      "40 . Cost = 0.9011016 \tWeight = 0.3737652\n",
      "80 . Cost = 0.023725929 \tWeight = 0.85284334\n",
      "120 . Cost = 0.0004294787 \tWeight = 0.9270917\n",
      "160 . Cost = 7.274477e-06 \tWeight = 0.93699336\n",
      "200 . Cost = 1.2204309e-07 \tWeight = 0.9382804\n",
      "240 . Cost = 2.0518165e-09 \tWeight = 0.93844706\n",
      "280 . Cost = 3.6769403e-11 \tWeight = 0.93846864\n",
      "320 . Cost = 1.6531961e-12 \tWeight = 0.93847215\n",
      "360 . Cost = 1.1652901e-12 \tWeight = 0.9384723\n",
      "400 . Cost = 1.1652901e-12 \tWeight = 0.9384723\n",
      "440 . Cost = 1.1652901e-12 \tWeight = 0.9384723\n",
      "480 . Cost = 1.1652901e-12 \tWeight = 0.9384723\n",
      "520 . Cost = 1.1652901e-12 \tWeight = 0.9384723\n",
      "560 . Cost = 1.1652901e-12 \tWeight = 0.9384723\n",
      "600 . Cost = 1.1652901e-12 \tWeight = 0.9384723\n",
      "640 . Cost = 1.1652901e-12 \tWeight = 0.9384723\n",
      "680 . Cost = 1.1652901e-12 \tWeight = 0.9384723\n",
      "720 . Cost = 1.1652901e-12 \tWeight = 0.9384723\n",
      "760 . Cost = 1.1652901e-12 \tWeight = 0.9384723\n",
      "800 . Cost = 1.1652901e-12 \tWeight = 0.9384723\n",
      "840 . Cost = 1.1652901e-12 \tWeight = 0.9384723\n",
      "880 . Cost = 1.1652901e-12 \tWeight = 0.9384723\n",
      "920 . Cost = 1.1652901e-12 \tWeight = 0.9384723\n",
      "960 . Cost = 1.1652901e-12 \tWeight = 0.9384723\n",
      "1000 . Cost = 1.1652901e-12 \tWeight = 0.9384723\n",
      "1040 . Cost = 1.1652901e-12 \tWeight = 0.9384723\n",
      "1080 . Cost = 1.1652901e-12 \tWeight = 0.9384723\n",
      "1120 . Cost = 1.1652901e-12 \tWeight = 0.9384723\n",
      "1160 . Cost = 1.1652901e-12 \tWeight = 0.9384723\n",
      "1200 . Cost = 1.1652901e-12 \tWeight = 0.9384723\n",
      "1240 . Cost = 1.1652901e-12 \tWeight = 0.9384723\n",
      "1280 . Cost = 1.1652901e-12 \tWeight = 0.9384723\n",
      "1320 . Cost = 1.1652901e-12 \tWeight = 0.9384723\n",
      "1360 . Cost = 1.1652901e-12 \tWeight = 0.9384723\n",
      "1400 . Cost = 1.1652901e-12 \tWeight = 0.9384723\n",
      "1440 . Cost = 1.1652901e-12 \tWeight = 0.9384723\n",
      "1480 . Cost = 1.1652901e-12 \tWeight = 0.9384723\n",
      "1520 . Cost = 1.1652901e-12 \tWeight = 0.9384723\n",
      "1560 . Cost = 1.1652901e-12 \tWeight = 0.9384723\n",
      "1600 . Cost = 1.1652901e-12 \tWeight = 0.9384723\n",
      "1640 . Cost = 1.1652901e-12 \tWeight = 0.9384723\n",
      "1680 . Cost = 1.1652901e-12 \tWeight = 0.9384723\n",
      "1720 . Cost = 1.1652901e-12 \tWeight = 0.9384723\n",
      "1760 . Cost = 1.1652901e-12 \tWeight = 0.9384723\n",
      "1800 . Cost = 1.1652901e-12 \tWeight = 0.9384723\n",
      "1840 . Cost = 1.1652901e-12 \tWeight = 0.9384723\n",
      "1880 . Cost = 1.1652901e-12 \tWeight = 0.9384723\n",
      "1920 . Cost = 1.1652901e-12 \tWeight = 0.9384723\n",
      "1960 . Cost = 1.1652901e-12 \tWeight = 0.9384723\n",
      "2000 . Cost = 1.1652901e-12 \tWeight = 0.9384723\n"
     ]
    }
   ],
   "source": [
    "#teamAnacondas\n",
    "X=tf.Variable([1.0,2.0,3.0])\n",
    "Y=tf.Variable([1.0,2.0,3.0])\n",
    "\n",
    "W=tf.Variable(-3.0,name='weight')\n",
    "\n",
    "hypothesis=X*W\n",
    "\n",
    "cost=tf.reduce_mean(tf.square(hypothesis - Y))\n",
    "\n",
    "optimizer=tf.compat.v1.train.GradientDescentOptimizer(learning_rate=0.01)\n",
    "train=optimizer.minimize(cost)\n",
    "\n",
    "sess=tf.compat.v1.Session()\n",
    "\n",
    "sess.run(tf.compat.v1.global_variables_initializer())\n",
    "\n",
    "for step in range(2001):\n",
    "    cost_v,W_v,_=sess.run([cost,W,train])\n",
    "    if step%40 == 0:\n",
    "        print(step, '. Cost =', cost_v,'\\tWeight =',W_v)"
   ]
  },
  {
   "cell_type": "code",
   "execution_count": null,
   "metadata": {},
   "outputs": [],
   "source": []
  }
 ],
 "metadata": {
  "kernelspec": {
   "display_name": "Python 3",
   "language": "python",
   "name": "python3"
  },
  "language_info": {
   "codemirror_mode": {
    "name": "ipython",
    "version": 3
   },
   "file_extension": ".py",
   "mimetype": "text/x-python",
   "name": "python",
   "nbconvert_exporter": "python",
   "pygments_lexer": "ipython3",
   "version": "3.6.12"
  }
 },
 "nbformat": 4,
 "nbformat_minor": 4
}
