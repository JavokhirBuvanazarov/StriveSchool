{
 "cells": [
  {
   "cell_type": "markdown",
   "metadata": {},
   "source": [
    "## Linear Algebra Quiz #1\n",
    "\n",
    "![title](./img/1_0.jpeg)\n",
    "\n",
    "We strongly suggest working with numpy :)"
   ]
  },
  {
   "cell_type": "code",
   "execution_count": null,
   "metadata": {},
   "outputs": [],
   "source": []
  },
  {
   "cell_type": "markdown",
   "metadata": {},
   "source": [
    "![title](./img/1_1.png)"
   ]
  },
  {
   "cell_type": "code",
   "execution_count": 33,
   "metadata": {},
   "outputs": [
    {
     "name": "stdout",
     "output_type": "stream",
     "text": [
      "1.732\n"
     ]
    }
   ],
   "source": [
    "# type a function that given a 3_dimensional vector it is able to calculate its magnitude\n",
    "import numpy as np\n",
    "def magnitude_3(a=0,b=0,c=0,d=0, e=0):\n",
    "    x= (a,b,c,d,e)\n",
    "    return(print(round(np.sqrt(sum(i**2 for i in x)),3)))\n",
    "\n",
    " \n",
    "magnitude_3(1,1,1)\n",
    "\n",
    "\n"
   ]
  },
  {
   "cell_type": "markdown",
   "metadata": {},
   "source": [
    "uncomment the following line when you are ready to test"
   ]
  },
  {
   "cell_type": "code",
   "execution_count": 34,
   "metadata": {},
   "outputs": [
    {
     "name": "stdout",
     "output_type": "stream",
     "text": [
      "1.0\n",
      "2.236\n",
      "3.742\n",
      "7.416\n",
      "7.416\n"
     ]
    }
   ],
   "source": [
    "magnitude_3(1)\n",
    "magnitude_3(1,2) \n",
    "magnitude_3(1,2,3) \n",
    "magnitude_3(1,2,3,4,5) \n",
    "magnitude_3(1,2,3,4,5) "
   ]
  },
  {
   "cell_type": "markdown",
   "metadata": {},
   "source": [
    "![title](./img/1_2.png)"
   ]
  },
  {
   "cell_type": "code",
   "execution_count": 40,
   "metadata": {},
   "outputs": [],
   "source": [
    "def magnitude_vectors(a, b):\n",
    "    #checks that size is equal\n",
    "    while len(a)==len(b):\n",
    "        x= np.add(a,b)\n",
    "        print(f'direction is {x}')\n",
    "        return(print(f'magnitude is {round(np.sqrt(sum(i**2 for i in x)),3)}'))\n",
    "\n",
    "        \n",
    "    \n",
    "    #returns the magnitude"
   ]
  },
  {
   "cell_type": "markdown",
   "metadata": {},
   "source": [
    "![title](./img/1_3.png)"
   ]
  },
  {
   "cell_type": "code",
   "execution_count": 41,
   "metadata": {},
   "outputs": [
    {
     "name": "stdout",
     "output_type": "stream",
     "text": [
      "direction is [1 0]\n",
      "magnitude is 1.0\n"
     ]
    }
   ],
   "source": [
    "magnitude_vectors([5,1],[-4,-1]) "
   ]
  },
  {
   "cell_type": "markdown",
   "metadata": {},
   "source": [
    "![title](./img/1_4.png)\n",
    "- What is the magnitude of αx⃗? \n",
    "- If α>0, will the direction of the resulting vector change?\n",
    "- If α<0, will the direction of the resulting vector change?\n",
    "- If −1<α<1, will ∥αx⃗∥  increase, decrease or stay the same?"
   ]
  },
  {
   "cell_type": "code",
   "execution_count": 52,
   "metadata": {},
   "outputs": [],
   "source": [
    "def alpha_magnitude(alpha, b):\n",
    "    \n",
    "    x= np.dot(alpha,b)\n",
    "    \n",
    "    if alpha<0:\n",
    "        print(\"direction changed\")\n",
    "    return(print(round(np.sqrt(sum(i**2 for i in x)),3)))\n",
    "    \n",
    "    \n",
    "    #returns the resulting magnitude, if the direction has changed and what has happened to the vector"
   ]
  },
  {
   "cell_type": "code",
   "execution_count": 53,
   "metadata": {},
   "outputs": [
    {
     "name": "stdout",
     "output_type": "stream",
     "text": [
      "direction changed\n",
      "2.236\n"
     ]
    }
   ],
   "source": [
    "alpha_magnitude(-1,[1,2])"
   ]
  },
  {
   "cell_type": "code",
   "execution_count": null,
   "metadata": {},
   "outputs": [],
   "source": [
    "#If α>0, will the direction of the resulting vector change? No\n",
    "#If α<0, will the direction of the resulting vector change? Yes\n",
    "#If −1<α<1, will ∥αx⃗∥ increase, decrease or stay the same? "
   ]
  }
 ],
 "metadata": {
  "kernelspec": {
   "display_name": "Python 3",
   "language": "python",
   "name": "python3"
  },
  "language_info": {
   "codemirror_mode": {
    "name": "ipython",
    "version": 3
   },
   "file_extension": ".py",
   "mimetype": "text/x-python",
   "name": "python",
   "nbconvert_exporter": "python",
   "pygments_lexer": "ipython3",
   "version": "3.8.5"
  }
 },
 "nbformat": 4,
 "nbformat_minor": 2
}
