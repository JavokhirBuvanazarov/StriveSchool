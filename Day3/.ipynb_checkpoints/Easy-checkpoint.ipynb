{
 "cells": [
  {
   "cell_type": "code",
   "execution_count": 2,
   "id": "genetic-reservoir",
   "metadata": {},
   "outputs": [],
   "source": [
    "# Problem 1\n",
    "def calculate_cost(x):\n",
    "    cover_price = 24.95\n",
    "    discount = 0.4\n",
    "    first_shipping_cost = 3\n",
    "    additional_shipping_cost = 0.75\n",
    "    bookstore_total_cost = cover_price*x*(1-discount)\n",
    "    shipping_total_cost = first_shipping_cost + (x-1)* additional_shipping_cost\n",
    "    print(\"Total book cost: \",bookstore_total_cost)\n",
    "    print(\"Total shipping cost\",shipping_total_cost)\n",
    "    whole_sale = bookstore_total_cost + shipping_total_cost\n",
    "    print(\"Whole sale: \",whole_sale)"
   ]
  },
  {
   "cell_type": "code",
   "execution_count": 3,
   "id": "unsigned-grass",
   "metadata": {},
   "outputs": [
    {
     "name": "stdout",
     "output_type": "stream",
     "text": [
      "Total book cost:  898.1999999999999\n",
      "Total shipping cost 47.25\n",
      "Whole sale:  945.4499999999999\n"
     ]
    }
   ],
   "source": [
    "calculate_cost(60)"
   ]
  },
  {
   "cell_type": "code",
   "execution_count": null,
   "id": "authentic-deadline",
   "metadata": {},
   "outputs": [],
   "source": []
  },
  {
   "cell_type": "code",
   "execution_count": 4,
   "id": "warming-annex",
   "metadata": {},
   "outputs": [
    {
     "ename": "ZeroDivisionError",
     "evalue": "division by zero",
     "output_type": "error",
     "traceback": [
      "\u001b[1;31m---------------------------------------------------------------------------\u001b[0m",
      "\u001b[1;31mZeroDivisionError\u001b[0m                         Traceback (most recent call last)",
      "\u001b[1;32m<ipython-input-4-d2c0889640ff>\u001b[0m in \u001b[0;36m<module>\u001b[1;34m\u001b[0m\n\u001b[1;32m----> 1\u001b[1;33m \u001b[0mprint\u001b[0m\u001b[1;33m(\u001b[0m\u001b[1;36m2\u001b[0m\u001b[1;33m/\u001b[0m\u001b[1;36m0\u001b[0m\u001b[1;33m)\u001b[0m\u001b[1;33m\u001b[0m\u001b[1;33m\u001b[0m\u001b[0m\n\u001b[0m",
      "\u001b[1;31mZeroDivisionError\u001b[0m: division by zero"
     ]
    }
   ],
   "source": [
    "# Problem 2\n",
    "print(2/0)"
   ]
  },
  {
   "cell_type": "code",
   "execution_count": 12,
   "id": "worthy-collector",
   "metadata": {},
   "outputs": [],
   "source": [
    "# Problem 3\n",
    "def countdown(x):\n",
    "    while(x > 0):\n",
    "        print(x)\n",
    "        x=x-1\n",
    "    print(\"Blast Off\")"
   ]
  },
  {
   "cell_type": "code",
   "execution_count": 13,
   "id": "lesser-composer",
   "metadata": {},
   "outputs": [
    {
     "name": "stdout",
     "output_type": "stream",
     "text": [
      "20\n",
      "19\n",
      "18\n",
      "17\n",
      "16\n",
      "15\n",
      "14\n",
      "13\n",
      "12\n",
      "11\n",
      "10\n",
      "9\n",
      "8\n",
      "7\n",
      "6\n",
      "5\n",
      "4\n",
      "3\n",
      "2\n",
      "1\n",
      "Blast Off\n"
     ]
    }
   ],
   "source": [
    "countdown(20)"
   ]
  },
  {
   "cell_type": "code",
   "execution_count": 27,
   "id": "classical-pharmaceutical",
   "metadata": {},
   "outputs": [],
   "source": [
    "a = [2, 4, 6, 12, 15, 99, 100]\n",
    "length_of_array = len(a)\n",
    "def main(n):\n",
    "    max_number = a[0]\n",
    "    min_number = a[0]\n",
    "    counter = 0\n",
    "    for i in range(1,n):\n",
    "        if (a[i] > max_number):\n",
    "            max_number = a[i]\n",
    "        if (a[i] < max_number):\n",
    "            min_number = a[i]\n",
    "        if (a[i] % 3 == 0):\n",
    "            counter +=1\n",
    "    print(\"Max number: \",max_number)\n",
    "    print(\"Max number: \",min_number)\n",
    "    print(\"Number of dividable by 3 is: \",counter)"
   ]
  },
  {
   "cell_type": "code",
   "execution_count": 28,
   "id": "aboriginal-patio",
   "metadata": {},
   "outputs": [
    {
     "name": "stdout",
     "output_type": "stream",
     "text": [
      "Max number:  100\n",
      "Max number:  2\n",
      "Number of dividable by 3 is:  4\n"
     ]
    }
   ],
   "source": [
    "main(length_of_array)"
   ]
  },
  {
   "cell_type": "code",
   "execution_count": null,
   "id": "breathing-wyoming",
   "metadata": {},
   "outputs": [],
   "source": []
  }
 ],
 "metadata": {
  "kernelspec": {
   "display_name": "Python 3",
   "language": "python",
   "name": "python3"
  },
  "language_info": {
   "codemirror_mode": {
    "name": "ipython",
    "version": 3
   },
   "file_extension": ".py",
   "mimetype": "text/x-python",
   "name": "python",
   "nbconvert_exporter": "python",
   "pygments_lexer": "ipython3",
   "version": "3.8.8"
  }
 },
 "nbformat": 4,
 "nbformat_minor": 5
}
