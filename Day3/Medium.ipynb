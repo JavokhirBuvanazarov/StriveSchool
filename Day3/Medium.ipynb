{
 "cells": [
  {
   "cell_type": "code",
   "execution_count": 3,
   "metadata": {},
   "outputs": [
    {
     "name": "stdout",
     "output_type": "stream",
     "text": [
      "Goes off at: 21 .00h\n"
     ]
    }
   ],
   "source": [
    "# Problem 1\n",
    "def alarm():\n",
    "    starting_hour = 14\n",
    "    setting_alarm = 535\n",
    "    final_clock = ( setting_alarm + starting_hour ) % 24\n",
    "    print(\"Goes off at:\",final_clock, \".00h\")\n",
    "alarm()"
   ]
  },
  {
   "cell_type": "code",
   "execution_count": 7,
   "metadata": {},
   "outputs": [],
   "source": [
    "# Problem 2\n",
    "def singsong(x):\n",
    "    while(x > 0):\n",
    "        print(x,\" bottles of beer on the wall \", x, \" bottles of beer. Take one down, pass it around\")\n",
    "        x = x - 1\n",
    "    print(\"0 bottles of beer in the wall\")"
   ]
  },
  {
   "cell_type": "code",
   "execution_count": 8,
   "metadata": {},
   "outputs": [
    {
     "name": "stdout",
     "output_type": "stream",
     "text": [
      "10  bottles of beer on the wall  10  bottles of beer. Take one down, pass it around\n",
      "9  bottles of beer on the wall  9  bottles of beer. Take one down, pass it around\n",
      "8  bottles of beer on the wall  8  bottles of beer. Take one down, pass it around\n",
      "7  bottles of beer on the wall  7  bottles of beer. Take one down, pass it around\n",
      "6  bottles of beer on the wall  6  bottles of beer. Take one down, pass it around\n",
      "5  bottles of beer on the wall  5  bottles of beer. Take one down, pass it around\n",
      "4  bottles of beer on the wall  4  bottles of beer. Take one down, pass it around\n",
      "3  bottles of beer on the wall  3  bottles of beer. Take one down, pass it around\n",
      "2  bottles of beer on the wall  2  bottles of beer. Take one down, pass it around\n",
      "1  bottles of beer on the wall  1  bottles of beer. Take one down, pass it around\n",
      "0 bottles of beer in the wall\n"
     ]
    }
   ],
   "source": [
    "singsong(10)"
   ]
  },
  {
   "cell_type": "code",
   "execution_count": 7,
   "metadata": {},
   "outputs": [],
   "source": [
    "# Problem 3\n",
    "def fibonacci(x):\n",
    "    if (x == 0):\n",
    "        return 0\n",
    "    if (x == 1 or x == 2):\n",
    "        return 1\n",
    "    else:\n",
    "        return fibonacci(x-1) + fibonacci(x-2)"
   ]
  },
  {
   "cell_type": "code",
   "execution_count": 9,
   "metadata": {},
   "outputs": [
    {
     "name": "stdout",
     "output_type": "stream",
     "text": [
      "21\n"
     ]
    }
   ],
   "source": [
    "print(fibonacci(8))"
   ]
  },
  {
   "cell_type": "code",
   "execution_count": 14,
   "metadata": {},
   "outputs": [
    {
     "name": "stdout",
     "output_type": "stream",
     "text": [
      "a=0 b=0 c=0 d=0\n",
      "a=2 b=1 c=7 d=8\n"
     ]
    }
   ],
   "source": [
    "# Problem 4\n",
    "def find_numbers():\n",
    "    for a in range(0, 9):\n",
    "        for b in range(0, 9):\n",
    "            for c in range(0, 9):\n",
    "                for d in range(0, 9):\n",
    "                    if 4* (1000 * a + 100 * b + 10 * c + d) == \\\n",
    "                      (a + 10 * b + 100 * c + 1000 * d):\n",
    "                        print(\"a=%d b=%d c=%d d=%d\" % (a, b, c, d))\n",
    "find_numbers()"
   ]
  },
  {
   "cell_type": "code",
   "execution_count": null,
   "metadata": {},
   "outputs": [],
   "source": []
  },
  {
   "cell_type": "code",
   "execution_count": null,
   "metadata": {},
   "outputs": [],
   "source": []
  }
 ],
 "metadata": {
  "kernelspec": {
   "display_name": "Python 3",
   "language": "python",
   "name": "python3"
  },
  "language_info": {
   "codemirror_mode": {
    "name": "ipython",
    "version": 3
   },
   "file_extension": ".py",
   "mimetype": "text/x-python",
   "name": "python",
   "nbconvert_exporter": "python",
   "pygments_lexer": "ipython3",
   "version": "3.8.5"
  }
 },
 "nbformat": 4,
 "nbformat_minor": 5
}
