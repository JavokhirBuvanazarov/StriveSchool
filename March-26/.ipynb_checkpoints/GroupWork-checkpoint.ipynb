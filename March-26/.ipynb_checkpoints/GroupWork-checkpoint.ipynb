{
 "cells": [
  {
   "cell_type": "code",
   "execution_count": 29,
   "metadata": {},
   "outputs": [],
   "source": [
    "import requests\n",
    "from bs4 import BeautifulSoup\n",
    "import pandas as pd\n",
    "import matplotlib.pyplot as plt\n",
    "import re\n",
    "df = pd.DataFrame()"
   ]
  },
  {
   "cell_type": "code",
   "execution_count": 58,
   "metadata": {},
   "outputs": [],
   "source": [
    "# page = requests.get('https://www.imdb.com/search/title/?title_type=feature&num_votes=25000,&genres=sci-fi&sort=user_rating,desc&start=51&ref_=adv_nxt')\n",
    "\n",
    "# source = BeautifulSoup(page.content, 'html.parser')\n",
    "\n",
    "# details = source.find_all( class_ = \"lister-item\" )\n"
   ]
  },
  {
   "cell_type": "code",
   "execution_count": 59,
   "metadata": {},
   "outputs": [],
   "source": [
    "# df = pd.DataFrame()\n",
    "# print('Sci-Fi movies')\n",
    "# for each in details:\n",
    "#     index = each.find( class_ = \"lister-item-index\" ).text\n",
    "#     release_date = each.find( class_ = \"lister-item-year\" ).text\n",
    "#     description = each.find( class_ = \"lister-item-content\" ).find_all('p')[1].text\n",
    "#     df = df.append(pd.DataFrame(\n",
    "#         {\n",
    "#             'index': index[:-1],\n",
    "# #             'director_name': director_name,\n",
    "#             'release_date': int(re.search(r'\\d+', release_date).group()),\n",
    "#             'description': description[2:] \n",
    "#         }, index = [1]), ignore_index = True)\n",
    "# df\n",
    "# df.to_csv('ProjectWork.csv', index=False)"
   ]
  },
  {
   "cell_type": "code",
   "execution_count": 61,
   "metadata": {},
   "outputs": [
    {
     "data": {
      "text/html": [
       "<div>\n",
       "<style scoped>\n",
       "    .dataframe tbody tr th:only-of-type {\n",
       "        vertical-align: middle;\n",
       "    }\n",
       "\n",
       "    .dataframe tbody tr th {\n",
       "        vertical-align: top;\n",
       "    }\n",
       "\n",
       "    .dataframe thead th {\n",
       "        text-align: right;\n",
       "    }\n",
       "</style>\n",
       "<table border=\"1\" class=\"dataframe\">\n",
       "  <thead>\n",
       "    <tr style=\"text-align: right;\">\n",
       "      <th></th>\n",
       "      <th>index</th>\n",
       "      <th>release_date</th>\n",
       "      <th>Runtime</th>\n",
       "      <th>Movie</th>\n",
       "      <th>Rating</th>\n",
       "      <th>Year</th>\n",
       "      <th>description</th>\n",
       "    </tr>\n",
       "  </thead>\n",
       "  <tbody>\n",
       "    <tr>\n",
       "      <th>0</th>\n",
       "      <td>1</td>\n",
       "      <td>2010</td>\n",
       "      <td>148</td>\n",
       "      <td>Inception</td>\n",
       "      <td>8.8</td>\n",
       "      <td>2010</td>\n",
       "      <td>A thief who steals corporate secrets throug...</td>\n",
       "    </tr>\n",
       "    <tr>\n",
       "      <th>1</th>\n",
       "      <td>2</td>\n",
       "      <td>1999</td>\n",
       "      <td>136</td>\n",
       "      <td>Matrix</td>\n",
       "      <td>8.7</td>\n",
       "      <td>1999</td>\n",
       "      <td>When a beautiful stranger leads computer ha...</td>\n",
       "    </tr>\n",
       "    <tr>\n",
       "      <th>2</th>\n",
       "      <td>3</td>\n",
       "      <td>1980</td>\n",
       "      <td>124</td>\n",
       "      <td>Das Imperium schlägt zurück</td>\n",
       "      <td>8.7</td>\n",
       "      <td>1980</td>\n",
       "      <td>After the Rebels are brutally overpowered b...</td>\n",
       "    </tr>\n",
       "    <tr>\n",
       "      <th>3</th>\n",
       "      <td>4</td>\n",
       "      <td>2014</td>\n",
       "      <td>169</td>\n",
       "      <td>Interstellar</td>\n",
       "      <td>8.6</td>\n",
       "      <td>2014</td>\n",
       "      <td>A team of explorers travel through a wormho...</td>\n",
       "    </tr>\n",
       "    <tr>\n",
       "      <th>4</th>\n",
       "      <td>5</td>\n",
       "      <td>1977</td>\n",
       "      <td>121</td>\n",
       "      <td>Krieg der Sterne</td>\n",
       "      <td>8.6</td>\n",
       "      <td>1977</td>\n",
       "      <td>Luke Skywalker joins forces with a Jedi Kni...</td>\n",
       "    </tr>\n",
       "    <tr>\n",
       "      <th>...</th>\n",
       "      <td>...</td>\n",
       "      <td>...</td>\n",
       "      <td>...</td>\n",
       "      <td>...</td>\n",
       "      <td>...</td>\n",
       "      <td>...</td>\n",
       "      <td>...</td>\n",
       "    </tr>\n",
       "    <tr>\n",
       "      <th>95</th>\n",
       "      <td>96</td>\n",
       "      <td>2011</td>\n",
       "      <td>105</td>\n",
       "      <td>Planet der Affen: Prevolution</td>\n",
       "      <td>8.0</td>\n",
       "      <td>2011</td>\n",
       "      <td>A substance designed to help the brain repa...</td>\n",
       "    </tr>\n",
       "    <tr>\n",
       "      <th>96</th>\n",
       "      <td>97</td>\n",
       "      <td>2009</td>\n",
       "      <td>88</td>\n",
       "      <td>Zombieland</td>\n",
       "      <td>7.9</td>\n",
       "      <td>2009</td>\n",
       "      <td>A shy student trying to reach his family in...</td>\n",
       "    </tr>\n",
       "    <tr>\n",
       "      <th>97</th>\n",
       "      <td>98</td>\n",
       "      <td>2009</td>\n",
       "      <td>162</td>\n",
       "      <td>Watchmen: Die Wächter</td>\n",
       "      <td>7.9</td>\n",
       "      <td>2009</td>\n",
       "      <td>In 1985 where former superheroes exist, the...</td>\n",
       "    </tr>\n",
       "    <tr>\n",
       "      <th>98</th>\n",
       "      <td>99</td>\n",
       "      <td>2004</td>\n",
       "      <td>113</td>\n",
       "      <td>Butterfly Effect</td>\n",
       "      <td>7.9</td>\n",
       "      <td>2004</td>\n",
       "      <td>Evan Treborn suffers blackouts during signi...</td>\n",
       "    </tr>\n",
       "    <tr>\n",
       "      <th>99</th>\n",
       "      <td>100</td>\n",
       "      <td>2002</td>\n",
       "      <td>113</td>\n",
       "      <td>28 Tage später</td>\n",
       "      <td>7.9</td>\n",
       "      <td>2002</td>\n",
       "      <td>Four weeks after a mysterious, incurable vi...</td>\n",
       "    </tr>\n",
       "  </tbody>\n",
       "</table>\n",
       "<p>100 rows × 7 columns</p>\n",
       "</div>"
      ],
      "text/plain": [
       "    index  release_date  Runtime                          Movie  Rating  Year  \\\n",
       "0       1          2010      148                      Inception     8.8  2010   \n",
       "1       2          1999      136                         Matrix     8.7  1999   \n",
       "2       3          1980      124    Das Imperium schlägt zurück     8.7  1980   \n",
       "3       4          2014      169                   Interstellar     8.6  2014   \n",
       "4       5          1977      121               Krieg der Sterne     8.6  1977   \n",
       "..    ...           ...      ...                            ...     ...   ...   \n",
       "95     96          2011      105  Planet der Affen: Prevolution     8.0  2011   \n",
       "96     97          2009       88                     Zombieland     7.9  2009   \n",
       "97     98          2009      162          Watchmen: Die Wächter     7.9  2009   \n",
       "98     99          2004      113               Butterfly Effect     7.9  2004   \n",
       "99    100          2002      113                 28 Tage später     7.9  2002   \n",
       "\n",
       "                                          description  \n",
       "0      A thief who steals corporate secrets throug...  \n",
       "1      When a beautiful stranger leads computer ha...  \n",
       "2      After the Rebels are brutally overpowered b...  \n",
       "3      A team of explorers travel through a wormho...  \n",
       "4      Luke Skywalker joins forces with a Jedi Kni...  \n",
       "..                                                ...  \n",
       "95     A substance designed to help the brain repa...  \n",
       "96     A shy student trying to reach his family in...  \n",
       "97     In 1985 where former superheroes exist, the...  \n",
       "98     Evan Treborn suffers blackouts during signi...  \n",
       "99     Four weeks after a mysterious, incurable vi...  \n",
       "\n",
       "[100 rows x 7 columns]"
      ]
     },
     "execution_count": 61,
     "metadata": {},
     "output_type": "execute_result"
    }
   ],
   "source": [
    "df = pd.read_csv(\"ProjectWork_Final.csv\")\n",
    "df"
   ]
  },
  {
   "cell_type": "code",
   "execution_count": 64,
   "metadata": {},
   "outputs": [
    {
     "data": {
      "image/png": "[encoded data removed]",
      "text/plain": [
       "<Figure size 432x288 with 1 Axes>"
      ]
     },
     "metadata": {
      "needs_background": "light"
     },
     "output_type": "display_data"
    }
   ],
   "source": [
    "profitList = df ['Rating'].tolist()\n",
    "monthList  = df ['index'].tolist()\n",
    "plt.plot(monthList, profitList, label = 'Month-wise Profit data of last year')\n",
    "plt.xlabel('Movies order')\n",
    "plt.ylabel('Rating')\n",
    "plt.xticks(monthList)\n",
    "plt.title('Company profit per month')\n",
    "plt.show()"
   ]
  },
  {
   "cell_type": "code",
   "execution_count": 66,
   "metadata": {},
   "outputs": [
    {
     "data": {
      "image/png": "[encoded data removed]",
      "text/plain": [
       "<Figure size 432x288 with 1 Axes>"
      ]
     },
     "metadata": {
      "needs_background": "light"
     },
     "output_type": "display_data"
    }
   ],
   "source": [
    "monthList  = df ['index'].tolist()\n",
    "faceCremSalesData   = df ['Runtime'].tolist()\n",
    "faceWashSalesData   = df ['Rating'].tolist()\n",
    "toothPasteSalesData = df ['Year'].tolist()\n",
    "bathingsoapSalesData   = df ['release_date'].tolist()\n",
    "# shampooSalesData   = df ['shampoo'].tolist()\n",
    "# moisturizerSalesData = df ['moisturizer'].tolist()\n",
    "\n",
    "plt.plot(monthList, faceCremSalesData,   label = 'Runtime', marker='o', linewidth=3)\n",
    "plt.plot(monthList, faceWashSalesData,   label = 'Rating',  marker='o', linewidth=3)\n",
    "plt.plot(monthList, toothPasteSalesData, label = 'Year', marker='o', linewidth=3)\n",
    "plt.plot(monthList, bathingsoapSalesData, label = 'Release Date', marker='o', linewidth=3)\n",
    "# plt.plot(monthList, shampooSalesData, label = 'ToothPaste Sales Data', marker='o', linewidth=3)\n",
    "# plt.plot(monthList, moisturizerSalesData, label = 'ToothPaste Sales Data', marker='o', linewidth=3)\n",
    "\n",
    "plt.xlabel('Month Number')\n",
    "plt.ylabel('Sales units in number')\n",
    "plt.legend(loc='center left')\n",
    "plt.xticks(monthList)\n",
    "# plt.yticks([1000, 2000, 4000, 6000, 8000, 10000, 12000, 15000, 18000])\n",
    "plt.title('Comparison of movies')\n",
    "plt.show()"
   ]
  },
  {
   "cell_type": "code",
   "execution_count": null,
   "metadata": {},
   "outputs": [],
   "source": []
  }
 ],
 "metadata": {
  "kernelspec": {
   "display_name": "Python 3",
   "language": "python",
   "name": "python3"
  },
  "language_info": {
   "codemirror_mode": {
    "name": "ipython",
    "version": 3
   },
   "file_extension": ".py",
   "mimetype": "text/x-python",
   "name": "python",
   "nbconvert_exporter": "python",
   "pygments_lexer": "ipython3",
   "version": "3.8.5"
  }
 },
 "nbformat": 4,
 "nbformat_minor": 4
}
