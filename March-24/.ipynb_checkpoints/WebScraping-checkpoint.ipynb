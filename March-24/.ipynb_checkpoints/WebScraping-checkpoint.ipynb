{
 "cells": [
  {
   "cell_type": "code",
   "execution_count": 57,
   "metadata": {},
   "outputs": [],
   "source": [
    "import requests\n",
    "from bs4 import BeautifulSoup\n",
    "import pandas as pd\n",
    "import matplotlib.pyplot as plt\n",
    "df = pd.DataFrame()"
   ]
  },
  {
   "cell_type": "code",
   "execution_count": 53,
   "metadata": {},
   "outputs": [],
   "source": [
    "page = requests.get('https://weather.com/weather/tenday/l/San+Francisco+CA?canonicalCityId=dfdaba8cbe3a4d12a8796e1f7b1ccc7174b4b0a2d5ddb1c8566ae9f154fa638c')\n",
    "\n",
    "source = BeautifulSoup(page.content, 'html.parser')\n",
    "\n",
    "details = source.find( class_ = \"DailyForecast--DisclosureList--350ZO\" )\n",
    "\n",
    "final = details.find_all('details')\n",
    "\n",
    "h2_element = final[1].find('h2').text.split(' ')[1]\n",
    "\n",
    "def convert_far(x):\n",
    "    return round(5/9 * (int(x)-32))\n",
    "def get_month_name(x):\n",
    "    date = int(x)\n",
    "    if (date < 10):\n",
    "        return str(date) + ' April'\n",
    "    else:\n",
    "        return str(date) + ' March'"
   ]
  },
  {
   "cell_type": "code",
   "execution_count": 64,
   "metadata": {},
   "outputs": [
    {
     "name": "stdout",
     "output_type": "stream",
     "text": [
      "Weather forcasting in SanFrancisco\n"
     ]
    },
    {
     "data": {
      "text/html": [
       "<div>\n",
       "<style scoped>\n",
       "    .dataframe tbody tr th:only-of-type {\n",
       "        vertical-align: middle;\n",
       "    }\n",
       "\n",
       "    .dataframe tbody tr th {\n",
       "        vertical-align: top;\n",
       "    }\n",
       "\n",
       "    .dataframe thead th {\n",
       "        text-align: right;\n",
       "    }\n",
       "</style>\n",
       "<table border=\"1\" class=\"dataframe\">\n",
       "  <thead>\n",
       "    <tr style=\"text-align: right;\">\n",
       "      <th></th>\n",
       "      <th>Day</th>\n",
       "      <th>Date</th>\n",
       "      <th>Description</th>\n",
       "      <th>Temperature</th>\n",
       "    </tr>\n",
       "  </thead>\n",
       "  <tbody>\n",
       "    <tr>\n",
       "      <th>0</th>\n",
       "      <td>Sat</td>\n",
       "      <td>27 March</td>\n",
       "      <td>Sunny skies. High near 65F. ENE winds shifting...</td>\n",
       "      <td>18</td>\n",
       "    </tr>\n",
       "    <tr>\n",
       "      <th>1</th>\n",
       "      <td>Sun</td>\n",
       "      <td>28 March</td>\n",
       "      <td>Mostly sunny. High 61F. Winds W at 10 to 20 mph.</td>\n",
       "      <td>16</td>\n",
       "    </tr>\n",
       "    <tr>\n",
       "      <th>2</th>\n",
       "      <td>Mon</td>\n",
       "      <td>29 March</td>\n",
       "      <td>Mainly sunny. High 59F. Winds WNW at 15 to 25 ...</td>\n",
       "      <td>15</td>\n",
       "    </tr>\n",
       "    <tr>\n",
       "      <th>3</th>\n",
       "      <td>Tue</td>\n",
       "      <td>30 March</td>\n",
       "      <td>Sunny skies. High 66F. Winds NNW at 10 to 20 mph.</td>\n",
       "      <td>19</td>\n",
       "    </tr>\n",
       "    <tr>\n",
       "      <th>4</th>\n",
       "      <td>Wed</td>\n",
       "      <td>31 March</td>\n",
       "      <td>Sunny. High 69F. Winds N at 5 to 10 mph.</td>\n",
       "      <td>21</td>\n",
       "    </tr>\n",
       "    <tr>\n",
       "      <th>5</th>\n",
       "      <td>Thu</td>\n",
       "      <td>1 April</td>\n",
       "      <td>A mainly sunny sky. High 67F. Winds NNW at 10 ...</td>\n",
       "      <td>19</td>\n",
       "    </tr>\n",
       "    <tr>\n",
       "      <th>6</th>\n",
       "      <td>Fri</td>\n",
       "      <td>2 April</td>\n",
       "      <td>Intervals of clouds and sunshine. High 63F. Wi...</td>\n",
       "      <td>17</td>\n",
       "    </tr>\n",
       "    <tr>\n",
       "      <th>7</th>\n",
       "      <td>Sat</td>\n",
       "      <td>3 April</td>\n",
       "      <td>Partly cloudy. High 63F. Winds WNW at 15 to 25...</td>\n",
       "      <td>17</td>\n",
       "    </tr>\n",
       "    <tr>\n",
       "      <th>8</th>\n",
       "      <td>Sun</td>\n",
       "      <td>4 April</td>\n",
       "      <td>Abundant sunshine. High 61F. Winds WNW at 15 t...</td>\n",
       "      <td>16</td>\n",
       "    </tr>\n",
       "    <tr>\n",
       "      <th>9</th>\n",
       "      <td>Mon</td>\n",
       "      <td>5 April</td>\n",
       "      <td>Mostly sunny skies. High 59F. Winds WNW at 15 ...</td>\n",
       "      <td>15</td>\n",
       "    </tr>\n",
       "    <tr>\n",
       "      <th>10</th>\n",
       "      <td>Tue</td>\n",
       "      <td>6 April</td>\n",
       "      <td>Generally sunny despite a few afternoon clouds...</td>\n",
       "      <td>15</td>\n",
       "    </tr>\n",
       "    <tr>\n",
       "      <th>11</th>\n",
       "      <td>Wed</td>\n",
       "      <td>7 April</td>\n",
       "      <td>Partly cloudy skies. High 58F. Winds WNW at 10...</td>\n",
       "      <td>14</td>\n",
       "    </tr>\n",
       "  </tbody>\n",
       "</table>\n",
       "</div>"
      ],
      "text/plain": [
       "    Day      Date                                        Description  \\\n",
       "0   Sat  27 March  Sunny skies. High near 65F. ENE winds shifting...   \n",
       "1   Sun  28 March   Mostly sunny. High 61F. Winds W at 10 to 20 mph.   \n",
       "2   Mon  29 March  Mainly sunny. High 59F. Winds WNW at 15 to 25 ...   \n",
       "3   Tue  30 March  Sunny skies. High 66F. Winds NNW at 10 to 20 mph.   \n",
       "4   Wed  31 March           Sunny. High 69F. Winds N at 5 to 10 mph.   \n",
       "5   Thu   1 April  A mainly sunny sky. High 67F. Winds NNW at 10 ...   \n",
       "6   Fri   2 April  Intervals of clouds and sunshine. High 63F. Wi...   \n",
       "7   Sat   3 April  Partly cloudy. High 63F. Winds WNW at 15 to 25...   \n",
       "8   Sun   4 April  Abundant sunshine. High 61F. Winds WNW at 15 t...   \n",
       "9   Mon   5 April  Mostly sunny skies. High 59F. Winds WNW at 15 ...   \n",
       "10  Tue   6 April  Generally sunny despite a few afternoon clouds...   \n",
       "11  Wed   7 April  Partly cloudy skies. High 58F. Winds WNW at 10...   \n",
       "\n",
       "    Temperature  \n",
       "0            18  \n",
       "1            16  \n",
       "2            15  \n",
       "3            19  \n",
       "4            21  \n",
       "5            19  \n",
       "6            17  \n",
       "7            17  \n",
       "8            16  \n",
       "9            15  \n",
       "10           15  \n",
       "11           14  "
      ]
     },
     "execution_count": 64,
     "metadata": {},
     "output_type": "execute_result"
    }
   ],
   "source": [
    "df = pd.DataFrame()\n",
    "final.pop(0)\n",
    "temps = []\n",
    "print('Weather forcasting in SanFrancisco')\n",
    "for each in final:\n",
    "    full_date = each.find('h2').text\n",
    "    date = full_date.split(' ')[1]\n",
    "    day = full_date.split(' ')[0]\n",
    "    date = get_month_name(date)\n",
    "    description = each.find( class_ = \"DailyContent--narrative--3AcXd\" ).text\n",
    "    temperature = each.find( class_ = \"DetailsSummary--highTempValue--3x6cL\")\n",
    "    temperature = convert_far(temperature.text[:-1])\n",
    "    temps.append(temperature)\n",
    "    df = df.append(pd.DataFrame(\n",
    "        {\n",
    "            'Day': day,\n",
    "            'Date': date,\n",
    "            'Description': description, \n",
    "            'Temperature': temperature\n",
    "        }, index = [1]), ignore_index = True)\n",
    "df"
   ]
  },
  {
   "cell_type": "code",
   "execution_count": 80,
   "metadata": {},
   "outputs": [
    {
     "data": {
      "text/plain": [
       "[<matplotlib.lines.Line2D at 0x2bc16a894c0>]"
      ]
     },
     "execution_count": 80,
     "metadata": {},
     "output_type": "execute_result"
    },
    {
     "data": {
      "image/png": "[encoded data removed]",
      "text/plain": [
       "<Figure size 960x160 with 1 Axes>"
      ]
     },
     "metadata": {},
     "output_type": "display_data"
    }
   ],
   "source": [
    "from matplotlib.pyplot import figure\n",
    "figure(num=None, figsize=(12, 4), dpi=80, facecolor='w', edgecolor='k')\n",
    "plt.plot(df.Date, df.Temperature)"
   ]
  },
  {
   "cell_type": "code",
   "execution_count": null,
   "metadata": {},
   "outputs": [],
   "source": []
  },
  {
   "cell_type": "code",
   "execution_count": null,
   "metadata": {},
   "outputs": [],
   "source": []
  }
 ],
 "metadata": {
  "kernelspec": {
   "display_name": "Python 3",
   "language": "python",
   "name": "python3"
  },
  "language_info": {
   "codemirror_mode": {
    "name": "ipython",
    "version": 3
   },
   "file_extension": ".py",
   "mimetype": "text/x-python",
   "name": "python",
   "nbconvert_exporter": "python",
   "pygments_lexer": "ipython3",
   "version": "3.8.5"
  }
 },
 "nbformat": 4,
 "nbformat_minor": 4
}
