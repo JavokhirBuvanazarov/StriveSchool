{
 "cells": [
  {
   "cell_type": "code",
   "execution_count": 13,
   "metadata": {},
   "outputs": [],
   "source": [
    "import requests\n",
    "from bs4 import BeautifulSoup\n",
    "import pandas as pd\n",
    "import matplotlib.pyplot as plt\n",
    "import re"
   ]
  },
  {
   "cell_type": "code",
   "execution_count": 15,
   "metadata": {},
   "outputs": [
    {
     "name": "stdout",
     "output_type": "stream",
     "text": [
      "\n",
      "    Director:\n",
      "Stanley Kubrick\n",
      "| \n",
      "    Stars:\n",
      "Keir Dullea, \n",
      "Gary Lockwood, \n",
      "William Sylvester, \n",
      "Daniel Richter\n",
      "\n",
      "Hello\n"
     ]
    }
   ],
   "source": [
    "page = requests.get('https://www.imdb.com/list/ls052425344/')\n",
    "\n",
    "source = BeautifulSoup(page.content, 'html.parser')\n",
    "\n",
    "details = source.find_all( class_ = \"lister-item\" )\n",
    "print(details[0].find( class_ = \"lister-item-content\" ).find_all('p')[2].text)\n",
    "print('Hello')\n",
    "# df = pd.DataFrame()\n",
    "# # print('Sci-Fi movies')\n",
    "# for each in details:\n",
    "#     index = each.find( class_ = \"lister-item-index\" ).text\n",
    "#     release_date = each.find( class_ = \"lister-item-year\" ).text\n",
    "#     rating = each.find( class_ = \"ipl-rating-star__rating\" ).text\n",
    "#     description = each.find( class_ = \"lister-item-content\" ).find_all('p')[1].text\n",
    "#     df = df.append(pd.DataFrame(\n",
    "#         {\n",
    "#             'index': index[:-1],\n",
    "#             'rating': rating,\n",
    "#             'release_date': int(re.search(r'\\d+', release_date).group()),\n",
    "#             'description': description[2:] \n",
    "#         }, index = [1]), ignore_index = True)\n",
    "# df\n",
    "# df.to_csv('ProjectWork.csv', index=False)"
   ]
  },
  {
   "cell_type": "code",
   "execution_count": null,
   "metadata": {},
   "outputs": [],
   "source": []
  },
  {
   "cell_type": "code",
   "execution_count": null,
   "metadata": {},
   "outputs": [],
   "source": []
  },
  {
   "cell_type": "code",
   "execution_count": null,
   "metadata": {},
   "outputs": [],
   "source": []
  },
  {
   "cell_type": "code",
   "execution_count": null,
   "metadata": {},
   "outputs": [],
   "source": []
  },
  {
   "cell_type": "code",
   "execution_count": null,
   "metadata": {},
   "outputs": [],
   "source": []
  }
 ],
 "metadata": {
  "kernelspec": {
   "display_name": "Python 3",
   "language": "python",
   "name": "python3"
  },
  "language_info": {
   "codemirror_mode": {
    "name": "ipython",
    "version": 3
   },
   "file_extension": ".py",
   "mimetype": "text/x-python",
   "name": "python",
   "nbconvert_exporter": "python",
   "pygments_lexer": "ipython3",
   "version": "3.8.5"
  }
 },
 "nbformat": 4,
 "nbformat_minor": 4
}
